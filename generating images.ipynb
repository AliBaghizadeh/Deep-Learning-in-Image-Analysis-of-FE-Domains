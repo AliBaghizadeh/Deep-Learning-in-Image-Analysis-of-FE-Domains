{
 "cells": [
  {
   "cell_type": "markdown",
   "id": "5fc4764d",
   "metadata": {},
   "source": [
    "# Generating Images of Ferroelectric Domains in Class of h-REMnO3 oxides"
   ]
  },
  {
   "cell_type": "markdown",
   "id": "ee8f7dc4",
   "metadata": {},
   "source": [
    " "
   ]
  },
  {
   "cell_type": "markdown",
   "id": "b9042557",
   "metadata": {},
   "source": [
    "### Load Necessary Libraries"
   ]
  },
  {
   "cell_type": "code",
   "execution_count": null,
   "id": "726e2e8e",
   "metadata": {},
   "outputs": [],
   "source": [
    "import numpy as np\n",
    "import matplotlib.pyplot as plt\n",
    "import temul.api as tml\n",
    "import hyperspy.api as hs\n",
    "import os\n",
    "import time\n",
    "from skimage import img_as_ubyte\n",
    "from PIL import Image\n",
    "from pathlib import Path\n",
    "%load_ext autoreload\n",
    "%autoreload\n",
    "import lattice_builder as lb"
   ]
  },
  {
   "cell_type": "code",
   "execution_count": 17,
   "id": "9ca86227",
   "metadata": {},
   "outputs": [],
   "source": [
    "def mkdir(p):\n",
    "    if not os.path.exists(p):\n",
    "        os.mkdir(p)\n",
    "\n",
    "def link(src, dst):\n",
    "    if not os.path.exists(dst):\n",
    "        os.symlink(src, dst, target_is_directory=True)    \n",
    "\n",
    "# Determine the path to create directory to save images\n",
    "\n",
    "path = os.getcwd()\n",
    "os.makedirs(os.path.join(path, \"noisy images\"), exist_ok = True) \n",
    "main_path = os.path.join(path, \"noisy images\")\n",
    "main_path"
   ]
  },
  {
   "cell_type": "markdown",
   "id": "bdc4745e",
   "metadata": {},
   "source": [
    "### First Model, Upward domains"
   ]
  },
  {
   "cell_type": "code",
   "execution_count": 20,
   "id": "4a9de7e0",
   "metadata": {},
   "outputs": [
    {
     "name": "stdout",
     "output_type": "stream",
     "text": [
      "total time is 4.905346520741781 minute and total number of created images is 324\n"
     ]
    }
   ],
   "source": [
    "image_counter=0\n",
    "start = time.time()\n",
    "folder_name= \"FE_up\"\n",
    "folder_root = Path(main_path)/folder_name\n",
    "folder_root.mkdir(exist_ok = True)\n",
    "\n",
    "for dim in [600, 1200, 2400]:\n",
    "    for num_x in [30]:\n",
    "        for contrast in [6, 10, 30]:  \n",
    "            for sigma in [0.01, 0.05]:\n",
    "                for dist in [0.5, 1., 2.]:\n",
    "                    for dx in [0.11, 0.15, 0.19]:\n",
    "                    \n",
    "                        # Load each image as Signal\n",
    "                        sp=lb.RMNO3_FE_up(dim, num_x, contrast, sigma, dist, dx)\n",
    "\n",
    "                        #Normalize signal, then convert it to array \n",
    "                        #sp_converted=Image.fromarray(sp.signal.data/sp.signal.data.max())\n",
    "                        sp_converted=Image.fromarray(img_as_ubyte(sp.signal.data/sp.signal.data.max()))\n",
    "                        file_name = f\"{folder_root}/D{dim}N{num_x}C{contrast}Sg{sigma}dist{dist}dx{dx}.png\"\n",
    "                        file_path = folder_root/file_name\n",
    "                        sp_converted.save(file_path, overwrite = True)\n",
    "\n",
    "                        image_counter+=1\n",
    "time_end=time.time()\n",
    "print(f\"total time is {(time_end-start)/60} minute and total number of created images is {image_counter*2}\")"
   ]
  },
  {
   "cell_type": "markdown",
   "id": "b713608b",
   "metadata": {},
   "source": [
    "### Second Model, Downward domains"
   ]
  },
  {
   "cell_type": "code",
   "execution_count": 21,
   "id": "7f098297",
   "metadata": {},
   "outputs": [
    {
     "name": "stdout",
     "output_type": "stream",
     "text": [
      "total time is 5.9755683779716495 minute and total number of created images is 324\n"
     ]
    }
   ],
   "source": [
    "image_counter=0\n",
    "start = time.time()\n",
    "folder_name= \"FE_dn\"\n",
    "folder_root = Path(main_path)/folder_name\n",
    "folder_root.mkdir(exist_ok = True)\n",
    "\n",
    "for dim in [600, 1200, 2400]:\n",
    "    for num_x in [30]:\n",
    "        for contrast in [6, 10, 30]:  \n",
    "            for sigma in [0.01, 0.05]:\n",
    "                for dist in [0.5, 1., 2.]:\n",
    "                    for dx in [0.11, 0.15, 0.19]:\n",
    "                    \n",
    "                        # Load each image as Signal\n",
    "                        sp=lb.RMNO3_FE_down(dim, num_x, contrast, sigma, dist, dx)\n",
    "\n",
    "                        #Normalize signal, then convert it to array \n",
    "                        #sp_converted=Image.fromarray(sp.signal.data/sp.signal.data.max())\n",
    "                        sp_converted=Image.fromarray(img_as_ubyte(sp.signal.data/sp.signal.data.max()))\n",
    "                        file_name = f\"{folder_root}/D{dim}N{num_x}C{contrast}Sg{sigma}dist{dist}dx{dx}.png\"\n",
    "                        file_path = folder_root/file_name\n",
    "                        sp_converted.save(file_path, overwrite = True)\n",
    "\n",
    "                        image_counter+=1\n",
    "time_end=time.time()\n",
    "print(f\"total time is {(time_end-start)/60} minute and total number of created images is {image_counter*2}\")"
   ]
  },
  {
   "cell_type": "markdown",
   "id": "dc5e6302",
   "metadata": {},
   "source": [
    "### Third Model, Head to Head FE domains"
   ]
  },
  {
   "cell_type": "code",
   "execution_count": 22,
   "id": "6d309dfc",
   "metadata": {},
   "outputs": [
    {
     "name": "stdout",
     "output_type": "stream",
     "text": [
      "total time is 4.2347494006156925 minute and total number of created images is 324\n"
     ]
    }
   ],
   "source": [
    "image_counter=0\n",
    "start = time.time()\n",
    "folder_name= \"head_head\"\n",
    "folder_root = Path(main_path)/folder_name\n",
    "folder_root.mkdir(exist_ok = True)\n",
    "\n",
    "for dim in [600, 1200, 2400]:\n",
    "    for num_x in [30]:\n",
    "        for contrast in [6, 10, 30]:  \n",
    "            for sigma in [0.01, 0.05]:\n",
    "                for dist in [0.5, 1., 2.]:\n",
    "                    for dx in [0.11, 0.15, 0.19]:\n",
    "                    \n",
    "                        # Load each image as Signal\n",
    "                        sp=lb.RMNO3_FE_head_head(dim, num_x, contrast, sigma, dist, dx)\n",
    "\n",
    "                        #Normalize signal, then convert it to array \n",
    "                        #sp_converted=Image.fromarray(sp.signal.data/sp.signal.data.max())\n",
    "                        sp_converted=Image.fromarray(img_as_ubyte(sp.signal.data/sp.signal.data.max()))\n",
    "                        file_name = f\"{folder_root}/D{dim}N{num_x}C{contrast}Sg{sigma}dist{dist}dx{dx}.png\"\n",
    "                        file_path = folder_root/file_name\n",
    "                        sp_converted.save(file_path, overwrite = True)\n",
    "\n",
    "                        image_counter+=1\n",
    "time_end=time.time()\n",
    "print(f\"total time is {(time_end-start)/60} minute and total number of created images is {image_counter*2}\")"
   ]
  },
  {
   "cell_type": "markdown",
   "id": "0802daca",
   "metadata": {},
   "source": [
    "### Fourth Model, Tail to tail FE domains"
   ]
  },
  {
   "cell_type": "code",
   "execution_count": 23,
   "id": "65bcfb3f-1f94-4208-a807-16f93e7c136b",
   "metadata": {},
   "outputs": [
    {
     "name": "stdout",
     "output_type": "stream",
     "text": [
      "total time is 4.345349363485972 minute and total number of created images is 324\n"
     ]
    }
   ],
   "source": [
    "image_counter=0\n",
    "start = time.time()\n",
    "folder_name= \"tail_tail\"\n",
    "folder_root = Path(main_path)/folder_name\n",
    "folder_root.mkdir(exist_ok = True)\n",
    "\n",
    "for dim in [600, 1200, 2400]:\n",
    "    for num_x in [30]:\n",
    "        for contrast in [6, 10, 30]:  \n",
    "            for sigma in [0.01, 0.05]:\n",
    "                for dist in [0.5, 1., 2.]:\n",
    "                    for dx in [0.11, 0.15, 0.19]:\n",
    "                    \n",
    "                        # Load each image as Signal\n",
    "                        sp=lb.RMNO3_FE_tail_tail(dim, num_x, contrast, sigma, dist, dx)\n",
    "\n",
    "                        #Normalize signal, then convert it to array \n",
    "                        #sp_converted=Image.fromarray(sp.signal.data/sp.signal.data.max())\n",
    "                        sp_converted=Image.fromarray(img_as_ubyte(sp.signal.data/sp.signal.data.max()))\n",
    "                        file_name = f\"{folder_root}/D{dim}N{num_x}C{contrast}Sg{sigma}dist{dist}dx{dx}.png\"\n",
    "                        file_path = folder_root/file_name\n",
    "                        sp_converted.save(file_path, overwrite = True)\n",
    "\n",
    "                        image_counter+=1\n",
    "time_end=time.time()\n",
    "print(f\"total time is {(time_end-start)/60} minute and total number of created images is {image_counter*2}\")"
   ]
  },
  {
   "cell_type": "markdown",
   "id": "4b8fc29a",
   "metadata": {},
   "source": [
    "### Fifth Model, Head to head domains with horizental shift"
   ]
  },
  {
   "cell_type": "code",
   "execution_count": 24,
   "id": "8dfe6ae9-febe-47ab-852e-aea955ed5dd8",
   "metadata": {},
   "outputs": [
    {
     "name": "stdout",
     "output_type": "stream",
     "text": [
      "total time is 4.3525467872619625 minute and total number of created images is 324\n"
     ]
    }
   ],
   "source": [
    "image_counter=0\n",
    "start = time.time()\n",
    "folder_name= \"head_shift\"\n",
    "folder_root = Path(main_path)/folder_name\n",
    "folder_root.mkdir(exist_ok = True)\n",
    "\n",
    "for dim in [600, 1200, 2400]:\n",
    "    for num_x in [30]:\n",
    "        for contrast in [6, 10, 30]:  \n",
    "            for sigma in [0.01, 0.05]:\n",
    "                for dist in [0.5, 1., 2.]:\n",
    "                    for dx in [0.11, 0.15, 0.19]:\n",
    "                    \n",
    "                        # Load each image as Signal\n",
    "                        sp=lb.RMNO3_FE_head_shift(dim, num_x, contrast, sigma, dist, dx)\n",
    "\n",
    "                        #Normalize signal, then convert it to array \n",
    "                        #sp_converted=Image.fromarray(sp.signal.data/sp.signal.data.max())\n",
    "                        sp_converted=Image.fromarray(img_as_ubyte(sp.signal.data/sp.signal.data.max()))\n",
    "                        file_name = f\"{folder_root}/D{dim}N{num_x}C{contrast}Sg{sigma}dist{dist}dx{dx}.png\"\n",
    "                        file_path = folder_root/file_name\n",
    "                        sp_converted.save(file_path, overwrite = True)\n",
    "\n",
    "                        image_counter+=1\n",
    "time_end=time.time()\n",
    "print(f\"total time is {(time_end-start)/60} minute and total number of created images is {image_counter*2}\")"
   ]
  },
  {
   "cell_type": "markdown",
   "id": "39330af6",
   "metadata": {},
   "source": [
    "### Sixth Model, Tail to tail FE domains with horizental shift"
   ]
  },
  {
   "cell_type": "code",
   "execution_count": 25,
   "id": "e2f6bc6d-28d8-4c22-8957-06951850f1a5",
   "metadata": {},
   "outputs": [
    {
     "name": "stdout",
     "output_type": "stream",
     "text": [
      "total time is 4.341349105040233 minute and total number of created images is 324\n"
     ]
    }
   ],
   "source": [
    "image_counter=0\n",
    "start = time.time()\n",
    "folder_name= \"tail_shift\"\n",
    "folder_root = Path(main_path)/folder_name\n",
    "folder_root.mkdir(exist_ok = True)\n",
    "\n",
    "for dim in [600, 1200, 2400]:\n",
    "    for num_x in [30]:\n",
    "        for contrast in [6, 10, 30]:  \n",
    "            for sigma in [0.01, 0.05]:\n",
    "                for dist in [0.5, 1., 2.]:\n",
    "                    for dx in [0.11, 0.15, 0.19]:\n",
    "                    \n",
    "                        # Load each image as Signal\n",
    "                        sp=lb.RMNO3_FE_tail_shift(dim, num_x, contrast, sigma, dist, dx)\n",
    "\n",
    "                        #Normalize signal, then convert it to array \n",
    "                        #sp_converted=Image.fromarray(sp.signal.data/sp.signal.data.max())\n",
    "                        sp_converted=Image.fromarray(img_as_ubyte(sp.signal.data/sp.signal.data.max()))\n",
    "                        file_name = f\"{folder_root}/D{dim}N{num_x}C{contrast}Sg{sigma}dist{dist}dx{dx}.png\"\n",
    "                        file_path = folder_root/file_name\n",
    "                        sp_converted.save(file_path, overwrite = True)\n",
    "\n",
    "                        image_counter+=1\n",
    "time_end=time.time()\n",
    "print(f\"total time is {(time_end-start)/60} minute and total number of created images is {image_counter*2}\")"
   ]
  },
  {
   "cell_type": "markdown",
   "id": "1f03f364",
   "metadata": {},
   "source": [
    "### Seventh Model, Side by side up and down FE domains"
   ]
  },
  {
   "cell_type": "code",
   "execution_count": 26,
   "id": "4b996ab2-ed9a-4935-aba6-a80b0d0b75b1",
   "metadata": {},
   "outputs": [
    {
     "name": "stdout",
     "output_type": "stream",
     "text": [
      "total time is 4.3602268894513445 minute and total number of created images is 324\n"
     ]
    }
   ],
   "source": [
    "image_counter=0\n",
    "start = time.time()\n",
    "folder_name= \"sideup_sidedn\"\n",
    "folder_root = Path(main_path)/folder_name\n",
    "folder_root.mkdir(exist_ok = True)\n",
    "\n",
    "for dim in [600, 1200, 2400]:\n",
    "    for num_x in [30]:\n",
    "        for contrast in [6, 10, 30]:  \n",
    "            for sigma in [0.01, 0.05]:\n",
    "                for dist in [0.5, 1., 2.]:\n",
    "                    for dx in [0.11, 0.15, 0.19]:\n",
    "                    \n",
    "                        # Load each image as Signal\n",
    "                        sp=lb.RMNO3_FE_sideup_sidedn(dim, num_x, contrast, sigma, dist, dx)\n",
    "\n",
    "                        #Normalize signal, then convert it to array \n",
    "                        #sp_converted=Image.fromarray(sp.signal.data/sp.signal.data.max())\n",
    "                        sp_converted=Image.fromarray(img_as_ubyte(sp.signal.data/sp.signal.data.max()))\n",
    "                        file_name = f\"{folder_root}/D{dim}N{num_x}C{contrast}Sg{sigma}dist{dist}dx{dx}.png\"\n",
    "                        file_path = folder_root/file_name\n",
    "                        sp_converted.save(file_path, overwrite = True)\n",
    "\n",
    "                        image_counter+=1\n",
    "time_end=time.time()\n",
    "print(f\"total time is {(time_end-start)/60} minute and total number of created images is {image_counter*2}\")"
   ]
  },
  {
   "cell_type": "markdown",
   "id": "095244ff",
   "metadata": {},
   "source": [
    "### Eighth Model, side by side, down and up domains"
   ]
  },
  {
   "cell_type": "code",
   "execution_count": 27,
   "id": "f7965fa1-412b-48a3-89cb-cd2b92159577",
   "metadata": {},
   "outputs": [
    {
     "name": "stdout",
     "output_type": "stream",
     "text": [
      "total time is 4.072840503851572 minute and total number of created images is 324\n"
     ]
    }
   ],
   "source": [
    "image_counter=0\n",
    "start = time.time()\n",
    "folder_name= \"sided_sideu\"\n",
    "folder_root = Path(main_path)/folder_name\n",
    "folder_root.mkdir(exist_ok = True)\n",
    "\n",
    "for dim in [600, 1200, 2400]:\n",
    "    for num_x in [30]:\n",
    "        for contrast in [6, 10, 30]:  \n",
    "            for sigma in [0.01, 0.05]:\n",
    "                for dist in [0.5, 1., 2.]:\n",
    "                    for dx in [0.11, 0.15, 0.19]:\n",
    "                    \n",
    "                        # Load each image as Signal\n",
    "                        sp=lb.RMNO3_FE_sided_sideu(dim, num_x, contrast, sigma, dist, dx)\n",
    "\n",
    "                        #Normalize signal, then convert it to array \n",
    "                        #sp_converted=Image.fromarray(sp.signal.data/sp.signal.data.max())\n",
    "                        sp_converted=Image.fromarray(img_as_ubyte(sp.signal.data/sp.signal.data.max()))\n",
    "                        file_name = f\"{folder_root}/D{dim}N{num_x}C{contrast}Sg{sigma}dist{dist}dx{dx}.png\"\n",
    "                        file_path = folder_root/file_name\n",
    "                        sp_converted.save(file_path, overwrite = True)\n",
    "\n",
    "                        image_counter+=1\n",
    "time_end=time.time()\n",
    "print(f\"total time is {(time_end-start)/60} minute and total number of created images is {image_counter*2}\")"
   ]
  }
 ],
 "metadata": {
  "kernelspec": {
   "display_name": "Python 3 (ipykernel)",
   "language": "python",
   "name": "python3"
  },
  "language_info": {
   "codemirror_mode": {
    "name": "ipython",
    "version": 3
   },
   "file_extension": ".py",
   "mimetype": "text/x-python",
   "name": "python",
   "nbconvert_exporter": "python",
   "pygments_lexer": "ipython3",
   "version": "3.8.16"
  }
 },
 "nbformat": 4,
 "nbformat_minor": 5
}
